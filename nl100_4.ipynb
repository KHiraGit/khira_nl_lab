{
 "cells": [
  {
   "cell_type": "code",
   "execution_count": 1,
   "id": "62cc356c",
   "metadata": {},
   "outputs": [],
   "source": [
    "## 利用するライブラリをインポート\n",
    "import MeCab\n",
    "import unidic_lite\n",
    "import re\n",
    "import sys\n",
    "\n",
    "## MeCab をセットアップ\n",
    "tagger = MeCab.Tagger()\n",
    "\n",
    "## neko.txt を形態素解析した結果を neko.txt.mecab に保存\n",
    "INFILE = 'neko.txt'\n",
    "OUTFILE = 'neko.txt.mecab'\n",
    "with open(INFILE, encoding='utf-8') as f_in:\n",
    "    with open(OUTFILE, 'w', encoding='utf-8') as f_out:\n",
    "        for line in f_in:\n",
    "            result = tagger.parse(line)\n",
    "            f_out.write(result)"
   ]
  },
  {
   "cell_type": "code",
   "execution_count": 2,
   "id": "2aed02c0",
   "metadata": {},
   "outputs": [
    {
     "name": "stdout",
     "output_type": "stream",
     "text": [
      "neko.txt.mecab includes 219229 words.\n"
     ]
    }
   ],
   "source": [
    "## 30. neko.txt.mecab を読み込み、1文を形態素（各形態素は表層形（surface），基本形（base），品詞（pos），品詞細分類1（pos1）をキーとするマッピング型）のリストとして格納\n",
    "FILENAME = 'neko.txt.mecab'\n",
    "i = 0\n",
    "\n",
    "words = []\n",
    "with open(FILENAME, encoding='utf-8') as f_in:\n",
    "    for line in f_in:\n",
    "        if re.search(r'^EOS', line):\n",
    "            words.append({'surface': 'EOS', 'base': '', 'pos': '', 'pos1': ''})\n",
    "        else:\n",
    "            _result = line.split('\\t')\n",
    "            _surface = _result[0]\n",
    "            _base = _result[3]\n",
    "            _pos = _result[4]\n",
    "            _pos1 = _result[5]\n",
    "            words.append({'surface': _surface, 'base': _base, 'pos': _pos, 'pos1': _pos1})\n",
    "\n",
    "print(FILENAME, 'includes', len(words), 'words.')"
   ]
  },
  {
   "cell_type": "code",
   "execution_count": 3,
   "id": "43fc8304",
   "metadata": {
    "scrolled": true
   },
   "outputs": [
    {
     "name": "stdout",
     "output_type": "stream",
     "text": [
      "4071 verb surfaces.\n",
      "1 ('し', 2470)\n",
      "2 ('ある', 1693)\n",
      "3 ('いる', 1255)\n",
      "4 ('する', 1056)\n",
      "5 ('云う', 937)\n",
      "6 ('なっ', 407)\n",
      "7 ('なる', 399)\n",
      "8 ('来', 377)\n",
      "9 ('い', 366)\n",
      "10 ('見', 362)\n"
     ]
    }
   ],
   "source": [
    "# 31. 動詞の表層形をすべて抽出\n",
    "verb_surfaces = {}\n",
    "for word in words:\n",
    "    if re.search(r'^動詞', word['pos']):\n",
    "        if word['surface'] not in verb_surfaces.keys():\n",
    "            verb_surfaces[word['surface']] = 0\n",
    "        verb_surfaces[word['surface']] = verb_surfaces[word['surface']] + 1\n",
    "        \n",
    "# 表層形の数\n",
    "print(len(verb_surfaces), 'verb surfaces.')\n",
    "\n",
    "# 出現数順に上位10件の表層形を出力\n",
    "verb_surfaces_sorted = sorted(verb_surfaces.items(), key=lambda x:x[1], reverse=True)\n",
    "for i in range(10):\n",
    "    print(i+1, verb_surfaces_sorted[i])"
   ]
  },
  {
   "cell_type": "code",
   "execution_count": 4,
   "id": "ac59cd05",
   "metadata": {},
   "outputs": [
    {
     "name": "stdout",
     "output_type": "stream",
     "text": [
      "4071 verb_basic_forms.\n",
      "1 ('し', 2470)\n",
      "2 ('ある', 1693)\n",
      "3 ('いる', 1255)\n",
      "4 ('する', 1056)\n",
      "5 ('云う', 937)\n",
      "6 ('なっ', 407)\n",
      "7 ('なる', 399)\n",
      "8 ('来', 377)\n",
      "9 ('い', 366)\n",
      "10 ('見', 362)\n"
     ]
    }
   ],
   "source": [
    "# 32. 動詞の基本形をすべて抽出\n",
    "verb_basic_forms = {}\n",
    "for word in words:\n",
    "    if re.search(r'^動詞', word['pos']):\n",
    "        if word['surface'] not in verb_basic_forms.keys():\n",
    "            verb_basic_forms[word['surface']] = 0\n",
    "        verb_basic_forms[word['surface']] = verb_basic_forms[word['surface']] + 1\n",
    "        \n",
    "# 表層形の数 (ユニーク)\n",
    "print(len(verb_basic_forms), 'verb_basic_forms.')\n",
    "\n",
    "# 出現数順に上位10件の表層形を出力\n",
    "verb_basic_forms_sorted = sorted(verb_basic_forms.items(), key=lambda x:x[1], reverse=True)\n",
    "for i in range(10):\n",
    "    print(i+1, verb_basic_forms_sorted[i])"
   ]
  },
  {
   "cell_type": "code",
   "execution_count": 5,
   "id": "dee9fa57",
   "metadata": {},
   "outputs": [
    {
     "name": "stdout",
     "output_type": "stream",
     "text": [
      "3908 AnoB.\n",
      "1 ('学校の生徒', 15)\n",
      "2 ('車屋の黒', 14)\n",
      "3 ('主人の方', 13)\n",
      "4 ('畳の上', 13)\n",
      "5 ('腹の中', 12)\n",
      "6 ('主人の頭', 12)\n",
      "7 ('秋の日', 11)\n",
      "8 ('車屋の神', 10)\n",
      "9 ('椽の下', 9)\n",
      "10 ('無言のまま', 9)\n"
     ]
    }
   ],
   "source": [
    "# 33 2つの名詞が「の」で連結されている名詞句を抽出\n",
    "AnoB = {}\n",
    "for i in range(1,len(words)-1):\n",
    "    word_0 = words[i-1]\n",
    "    word_1 = words[i]\n",
    "    word_2 = words[i+1]\n",
    "    if re.search(r'^名詞', word_0['pos']) and re.search(r'^の$', word_1['surface']) and re.search(r'^名詞', word_2['pos']):\n",
    "        _AnoB = word_0['surface'] + word_1['surface'] + word_2['surface']\n",
    "        if _AnoB not in AnoB.keys():\n",
    "            AnoB[_AnoB] = 0\n",
    "        AnoB[_AnoB] = AnoB[_AnoB] + 1\n",
    "        \n",
    "# 表層形の数\n",
    "print(len(AnoB), 'AnoB.')\n",
    "\n",
    "# 出現数順に上位10件の表層形を出力\n",
    "AnoB_sorted = sorted(AnoB.items(), key=lambda x:x[1], reverse=True)\n",
    "for i in range(10):\n",
    "    print(i+1, AnoB_sorted[i])"
   ]
  },
  {
   "cell_type": "code",
   "execution_count": 6,
   "id": "3cb2e3cb",
   "metadata": {},
   "outputs": [
    {
     "name": "stdout",
     "output_type": "stream",
     "text": [
      "9261 noun_concats.\n",
      "## 出現数順\n",
      "1 ('事', 1198)\n",
      "2 ('もの', 966)\n",
      "3 ('主人', 899)\n",
      "4 ('ところ', 377)\n",
      "5 ('人', 353)\n",
      "6 ('迷亭', 292)\n",
      "7 ('顔', 268)\n",
      "8 ('方', 266)\n",
      "9 ('時', 265)\n",
      "10 ('人間', 260)\n",
      "## 名詞の連接の文字列長の順\n",
      "1 {'noun_concat': 'Archaiomelesidonophrunicherata', 'count': 1, 'length': 30}\n",
      "2 {'noun_concat': 'チーン南無猫誉信女南無阿弥陀仏南無阿弥陀仏', 'count': 1, 'length': 21}\n",
      "3 {'noun_concat': 'twixtthecupandthelip', 'count': 1, 'length': 20}\n",
      "4 {'noun_concat': 'Doyouseetheboy', 'count': 1, 'length': 14}\n",
      "5 {'noun_concat': 'ワハハハハハサヴェジ・チー', 'count': 1, 'length': 13}\n",
      "6 {'noun_concat': '明治三十八年何月何日戸締り', 'count': 1, 'length': 13}\n",
      "7 {'noun_concat': '南無阿弥陀仏南無阿弥陀仏', 'count': 2, 'length': 12}\n",
      "8 {'noun_concat': 'タークイン・ゼ・プラウド', 'count': 1, 'length': 12}\n",
      "9 {'noun_concat': 'オタンチン・パレオロガス', 'count': 6, 'length': 12}\n",
      "10 {'noun_concat': 'せんだってトチメンボー', 'count': 1, 'length': 11}\n"
     ]
    }
   ],
   "source": [
    "# 34 名詞の連接（連続して出現する名詞）を最長一致で抽出\n",
    "noun_concats = {}\n",
    "noun_concat = ''\n",
    "for word in words:\n",
    "    if re.search(r'^名詞', word['pos']):\n",
    "        noun_concat = noun_concat + word['surface']\n",
    "    else:\n",
    "        if noun_concat != '':\n",
    "            if noun_concat not in noun_concats.keys():\n",
    "                noun_concats[noun_concat] = 0\n",
    "            noun_concats[noun_concat] = noun_concats[noun_concat] + 1\n",
    "        noun_concat = ''\n",
    "\n",
    "# 名詞の連接の数\n",
    "print(len(noun_concats), 'noun_concats.')\n",
    "\n",
    "# 名詞の連接の出現数上位10件の表層形を出力\n",
    "print('## 出現数順')\n",
    "noun_concats_sorted = sorted(noun_concats.items(), key=lambda x:x[1], reverse=True)\n",
    "for i in range(10):\n",
    "    print(i+1, noun_concats_sorted[i])\n",
    "    \n",
    "# 名詞の連接の文字列長の上位10件の表層形を出力\n",
    "print('## 名詞の連接の文字列長の順')\n",
    "noun_concat_length = []\n",
    "for key in noun_concats.keys():\n",
    "    noun_concat_length.append({'noun_concat': key, 'count': noun_concats[key], 'length': len(key)})\n",
    "noun_concats_sorted = sorted(noun_concat_length, key=lambda x:x['length'], reverse=True)\n",
    "for i in range(10):\n",
    "    print(i+1, noun_concats_sorted[i])\n"
   ]
  },
  {
   "cell_type": "code",
   "execution_count": 7,
   "id": "5b46b405",
   "metadata": {},
   "outputs": [
    {
     "name": "stdout",
     "output_type": "stream",
     "text": [
      "13733 surfaces.\n",
      "1 ('の', 9541)\n",
      "2 ('て', 7418)\n",
      "3 ('に', 7060)\n",
      "4 ('は', 6501)\n",
      "5 ('と', 6156)\n",
      "6 ('を', 6119)\n",
      "7 ('が', 5394)\n",
      "8 ('で', 4543)\n",
      "9 ('た', 3974)\n",
      "10 ('も', 3238)\n"
     ]
    }
   ],
   "source": [
    "# 35 文章中に出現する単語とその出現頻度を求め，出現頻度の高い順に並べよ．\n",
    "surfaces = {}\n",
    "for word in words:\n",
    "    if word['surface'] != 'EOS' and not re.search(r'^補助記号', word['pos']):\n",
    "        if word['surface'] not in surfaces.keys():\n",
    "            surfaces[word['surface']] = 0\n",
    "        surfaces[word['surface']] = surfaces[word['surface']] + 1\n",
    "        \n",
    "# 表層形の数 (ユニーク)\n",
    "print(len(surfaces), 'surfaces.')\n",
    "\n",
    "# 出現数順に上位10件の表層形を出力\n",
    "surfaces_sorted = sorted(surfaces.items(), key=lambda x:x[1], reverse=True)\n",
    "for i in range(10):\n",
    "    print(i+1, surfaces_sorted[i])"
   ]
  },
  {
   "cell_type": "code",
   "execution_count": 8,
   "id": "cfaa45e1",
   "metadata": {},
   "outputs": [
    {
     "name": "stdout",
     "output_type": "stream",
     "text": [
      "0 の\n",
      "1 て\n",
      "2 に\n",
      "3 は\n",
      "4 と\n",
      "5 を\n",
      "6 が\n",
      "7 で\n",
      "8 た\n",
      "9 も\n"
     ]
    },
    {
     "data": {
      "image/png": "[encoded data removed]",
      "text/plain": [
       "<Figure size 432x288 with 1 Axes>"
      ]
     },
     "metadata": {
      "needs_background": "light"
     },
     "output_type": "display_data"
    }
   ],
   "source": [
    "# 36 出現頻度が高い10語とその出現頻度をグラフで表示\n",
    "import matplotlib.pyplot as plt\n",
    "left = []\n",
    "height = []\n",
    "label = []\n",
    "for i in range(10):\n",
    "    _surface, _height = surfaces_sorted[i]\n",
    "    left.append(i)\n",
    "    label.append(_surface)\n",
    "    height.append(_height)\n",
    "    print(i, _surface)\n",
    "        \n",
    "plt.bar(left, height)\n",
    "plt.show()"
   ]
  },
  {
   "cell_type": "code",
   "execution_count": 29,
   "id": "b20be306",
   "metadata": {},
   "outputs": [
    {
     "name": "stdout",
     "output_type": "stream",
     "text": [
      "1 ('事', 45)\n",
      "2 ('人間', 34)\n",
      "3 ('もの', 28)\n",
      "4 ('一', 21)\n",
      "5 ('主人', 17)\n",
      "6 ('ところ', 12)\n",
      "7 ('顔', 9)\n",
      "8 ('上', 9)\n",
      "9 ('自分', 8)\n",
      "10 ('先生', 8)\n"
     ]
    },
    {
     "data": {
      "image/png": "[encoded data removed]",
      "text/plain": [
       "<Figure size 432x288 with 1 Axes>"
      ]
     },
     "metadata": {
      "needs_background": "light"
     },
     "output_type": "display_data"
    }
   ],
   "source": [
    "# 37 「猫」と共起頻度が高い10語とその出現頻度をグラフで表示\n",
    "neko_cooccurrnce = {}\n",
    "surfaces = []\n",
    "for word in words:\n",
    "    if word['surface'] != 'EOS':\n",
    "        # if re.search(r'^(名詞|動詞|形容詞|形容動詞)', word['pos']) and word['surface'] not in surfaces:\n",
    "        if re.search(r'^名詞', word['pos']) and word['surface'] not in surfaces:\n",
    "            surfaces.append(word['surface'])\n",
    "    else:\n",
    "        if '猫' in surfaces:\n",
    "            for surface in surfaces:\n",
    "                if surface != '猫':\n",
    "                    if surface not in neko_cooccurrnce.keys():\n",
    "                        neko_cooccurrnce[surface] = 0\n",
    "                    neko_cooccurrnce[surface] = neko_cooccurrnce[surface] + 1\n",
    "        surfaces = []\n",
    "\n",
    "# 共起回数順に上位10件を出力\n",
    "neko_cooccurrnce_sorted = sorted(neko_cooccurrnce.items(), key=lambda x:x[1], reverse=True)\n",
    "for i in range(10):\n",
    "    print(i+1, neko_cooccurrnce_sorted[i])\n",
    "\n",
    "# グラフで出力\n",
    "left = []\n",
    "height = []\n",
    "label = []\n",
    "for i in range(10):\n",
    "    _surface, _height = neko_cooccurrnce_sorted[i]\n",
    "    left.append(i)\n",
    "    label.append(_surface)\n",
    "    height.append(_height)\n",
    "        \n",
    "plt.bar(left, height)\n",
    "plt.show()     \n",
    "        "
   ]
  },
  {
   "cell_type": "code",
   "execution_count": 28,
   "id": "5874fc75",
   "metadata": {},
   "outputs": [
    {
     "name": "stdout",
     "output_type": "stream",
     "text": [
      "13732 surfaces.\n"
     ]
    },
    {
     "data": {
      "text/plain": [
       "(array([1.3544e+04, 8.8000e+01, 3.6000e+01, 1.3000e+01, 7.0000e+00,\n",
       "        9.0000e+00, 4.0000e+00, 4.0000e+00, 0.0000e+00, 2.0000e+00,\n",
       "        4.0000e+00, 1.0000e+00, 1.0000e+00, 1.0000e+00, 0.0000e+00,\n",
       "        0.0000e+00, 1.0000e+00, 1.0000e+00, 1.0000e+00, 0.0000e+00,\n",
       "        0.0000e+00, 1.0000e+00, 0.0000e+00, 1.0000e+00, 0.0000e+00,\n",
       "        1.0000e+00, 1.0000e+00, 0.0000e+00, 1.0000e+00, 0.0000e+00,\n",
       "        0.0000e+00, 0.0000e+00, 0.0000e+00, 1.0000e+00, 0.0000e+00,\n",
       "        0.0000e+00, 0.0000e+00, 0.0000e+00, 0.0000e+00, 0.0000e+00,\n",
       "        0.0000e+00, 1.0000e+00, 0.0000e+00, 0.0000e+00, 0.0000e+00,\n",
       "        0.0000e+00, 0.0000e+00, 1.0000e+00, 0.0000e+00, 0.0000e+00,\n",
       "        0.0000e+00, 0.0000e+00, 0.0000e+00, 0.0000e+00, 0.0000e+00,\n",
       "        0.0000e+00, 1.0000e+00, 0.0000e+00, 0.0000e+00, 0.0000e+00,\n",
       "        0.0000e+00, 0.0000e+00, 0.0000e+00, 0.0000e+00, 2.0000e+00,\n",
       "        0.0000e+00, 0.0000e+00, 0.0000e+00, 1.0000e+00, 0.0000e+00,\n",
       "        0.0000e+00, 0.0000e+00, 0.0000e+00, 1.0000e+00, 0.0000e+00,\n",
       "        0.0000e+00, 0.0000e+00, 1.0000e+00, 0.0000e+00, 0.0000e+00,\n",
       "        0.0000e+00, 0.0000e+00, 0.0000e+00, 0.0000e+00, 0.0000e+00,\n",
       "        0.0000e+00, 0.0000e+00, 0.0000e+00, 0.0000e+00, 0.0000e+00,\n",
       "        0.0000e+00, 0.0000e+00, 0.0000e+00, 0.0000e+00, 0.0000e+00,\n",
       "        0.0000e+00, 0.0000e+00, 0.0000e+00, 0.0000e+00, 1.0000e+00]),\n",
       " array([1.0000e+00, 9.6400e+01, 1.9180e+02, 2.8720e+02, 3.8260e+02,\n",
       "        4.7800e+02, 5.7340e+02, 6.6880e+02, 7.6420e+02, 8.5960e+02,\n",
       "        9.5500e+02, 1.0504e+03, 1.1458e+03, 1.2412e+03, 1.3366e+03,\n",
       "        1.4320e+03, 1.5274e+03, 1.6228e+03, 1.7182e+03, 1.8136e+03,\n",
       "        1.9090e+03, 2.0044e+03, 2.0998e+03, 2.1952e+03, 2.2906e+03,\n",
       "        2.3860e+03, 2.4814e+03, 2.5768e+03, 2.6722e+03, 2.7676e+03,\n",
       "        2.8630e+03, 2.9584e+03, 3.0538e+03, 3.1492e+03, 3.2446e+03,\n",
       "        3.3400e+03, 3.4354e+03, 3.5308e+03, 3.6262e+03, 3.7216e+03,\n",
       "        3.8170e+03, 3.9124e+03, 4.0078e+03, 4.1032e+03, 4.1986e+03,\n",
       "        4.2940e+03, 4.3894e+03, 4.4848e+03, 4.5802e+03, 4.6756e+03,\n",
       "        4.7710e+03, 4.8664e+03, 4.9618e+03, 5.0572e+03, 5.1526e+03,\n",
       "        5.2480e+03, 5.3434e+03, 5.4388e+03, 5.5342e+03, 5.6296e+03,\n",
       "        5.7250e+03, 5.8204e+03, 5.9158e+03, 6.0112e+03, 6.1066e+03,\n",
       "        6.2020e+03, 6.2974e+03, 6.3928e+03, 6.4882e+03, 6.5836e+03,\n",
       "        6.6790e+03, 6.7744e+03, 6.8698e+03, 6.9652e+03, 7.0606e+03,\n",
       "        7.1560e+03, 7.2514e+03, 7.3468e+03, 7.4422e+03, 7.5376e+03,\n",
       "        7.6330e+03, 7.7284e+03, 7.8238e+03, 7.9192e+03, 8.0146e+03,\n",
       "        8.1100e+03, 8.2054e+03, 8.3008e+03, 8.3962e+03, 8.4916e+03,\n",
       "        8.5870e+03, 8.6824e+03, 8.7778e+03, 8.8732e+03, 8.9686e+03,\n",
       "        9.0640e+03, 9.1594e+03, 9.2548e+03, 9.3502e+03, 9.4456e+03,\n",
       "        9.5410e+03]),\n",
       " <BarContainer object of 100 artists>)"
      ]
     },
     "execution_count": 28,
     "metadata": {},
     "output_type": "execute_result"
    },
    {
     "data": {
      "image/png": "[encoded data removed]",
      "text/plain": [
       "<Figure size 432x288 with 1 Axes>"
      ]
     },
     "metadata": {
      "needs_background": "light"
     },
     "output_type": "display_data"
    }
   ],
   "source": [
    "# 38 単語の出現頻度のヒストグラム (横軸は出現頻度を表し，1から単語の出現頻度の最大値までの線形目盛)\n",
    "surfaces = {}\n",
    "for word in words:\n",
    "    if word['surface'] != 'EOS' and word['surface'] != '　' and not re.search(r'^補助記号', word['pos']):\n",
    "        if word['surface'] not in surfaces.keys():\n",
    "            surfaces[word['surface']] = 0\n",
    "        surfaces[word['surface']] = surfaces[word['surface']] + 1\n",
    "        \n",
    "# 表層形の数 (ユニーク)\n",
    "print(len(surfaces), 'surfaces.')\n",
    "\n",
    "# ヒストグラムを表示\n",
    "x = []\n",
    "i = 0\n",
    "for key in surfaces.keys():\n",
    "    x.append(surfaces[key])\n",
    "\n",
    "plt.ylabel(\"number of words\")\n",
    "plt.xlabel(\"Frequency of appearance\")\n",
    "plt.hist(x, bins=100)"
   ]
  },
  {
   "cell_type": "code",
   "execution_count": 37,
   "id": "c6e4d2de",
   "metadata": {},
   "outputs": [
    {
     "name": "stdout",
     "output_type": "stream",
     "text": [
      "13732 surfaces.\n"
     ]
    },
    {
     "data": {
      "text/plain": [
       "<matplotlib.collections.PathCollection at 0x28afc7e92b0>"
      ]
     },
     "execution_count": 37,
     "metadata": {},
     "output_type": "execute_result"
    },
    {
     "data": {
      "image/png": "[encoded data removed]",
      "text/plain": [
       "<Figure size 1008x504 with 2 Axes>"
      ]
     },
     "metadata": {
      "needs_background": "light"
     },
     "output_type": "display_data"
    }
   ],
   "source": [
    "# 39 単語の出現頻度順位を横軸，その出現頻度を縦軸として，両対数グラフをプロット\n",
    "surfaces = {}\n",
    "for word in words:\n",
    "    if word['surface'] != 'EOS' and word['surface'] != '　' and not re.search(r'^補助記号', word['pos']):\n",
    "        if word['surface'] not in surfaces.keys():\n",
    "            surfaces[word['surface']] = 0\n",
    "        surfaces[word['surface']] = surfaces[word['surface']] + 1\n",
    "        \n",
    "# 表層形の数 (ユニーク)\n",
    "print(len(surfaces), 'surfaces.')\n",
    "\n",
    "# 出現順位と出現頻度を log-log でプロット\n",
    "import math\n",
    "surfaces_sorted = sorted(surfaces.items(), key=lambda x:x[1], reverse=True)\n",
    "x = []\n",
    "y = []\n",
    "i = 1\n",
    "for _surface in surfaces_sorted:\n",
    "    x.append(i)\n",
    "    y.append(_surface[1])\n",
    "    i = i + 1\n",
    "\n",
    "fig = plt.figure(figsize=(14, 7))\n",
    "ax1 = fig.add_subplot(1, 2, 1)\n",
    "ax1.set_xlabel(\"Rank\")\n",
    "ax1.set_ylabel(\"Frequency of appearance\")\n",
    "ax1.scatter(x, y)\n",
    "\n",
    "ax2 = fig.add_subplot(1, 2, 2)\n",
    "ax2.set_xscale('log')\n",
    "ax2.set_yscale('log')\n",
    "ax2.set_xlabel(\"Rank\")\n",
    "ax2.set_ylabel(\"Frequency of appearance\")\n",
    "ax2.scatter(x, y)"
   ]
  },
  {
   "cell_type": "code",
   "execution_count": null,
   "id": "10cf00a3",
   "metadata": {},
   "outputs": [],
   "source": []
  }
 ],
 "metadata": {
  "kernelspec": {
   "display_name": "Python 3 (ipykernel)",
   "language": "python",
   "name": "python3"
  },
  "language_info": {
   "codemirror_mode": {
    "name": "ipython",
    "version": 3
   },
   "file_extension": ".py",
   "mimetype": "text/x-python",
   "name": "python",
   "nbconvert_exporter": "python",
   "pygments_lexer": "ipython3",
   "version": "3.9.7"
  }
 },
 "nbformat": 4,
 "nbformat_minor": 5
}
