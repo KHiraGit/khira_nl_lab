{
  "cells": [
    {
      "cell_type": "code",
      "execution_count": null,
      "metadata": {
        "id": "E4l1_LjaoDVI"
      },
      "outputs": [],
      "source": [
        "#! pip install transformers\n",
        "! pip install transformers[sentencepiece]\n",
        "! pip install sentencepiece"
      ]
    },
    {
      "cell_type": "code",
      "execution_count": null,
      "metadata": {
        "id": "erTSXkxxoDVK"
      },
      "outputs": [],
      "source": [
        "from transformers import AutoTokenizer, AutoModelForCausalLM\n",
        "tokenizer = AutoTokenizer.from_pretrained(\"rinna/japanese-gpt2-medium\", use_fast=False)\n",
        "tokenizer.do_lower_case = True  # due to some bug of tokenizer config loading\n",
        "model = AutoModelForCausalLM.from_pretrained(\"rinna/japanese-gpt2-medium\")\n",
        "\n",
        "\n",
        "# from transformers import T5Tokenizer, AutoModelForCausalLM\n",
        "# tokenizer = T5Tokenizer.from_pretrained(\"rinna/japanese-gpt2-medium\")\n",
        "# tokenizer.do_lower_case = True  # due to some bug of tokenizer config loading\n",
        "# model = AutoModelForCausalLM.from_pretrained(\"rinna/japanese-gpt2-medium\")"
      ]
    },
    {
      "cell_type": "code",
      "execution_count": null,
      "metadata": {
        "id": "lcJJQsB5oDVL"
      },
      "outputs": [],
      "source": [
        "input_text = \"昔々あるところに、\"\n",
        "input_ids = tokenizer.encode(input_text, return_tensors=\"pt\", add_special_tokens=False)\n",
        "print(input_text, '->', input_ids)\n",
        "output_ids = model.generate(input_ids,max_length=48)\n",
        "output_text = tokenizer.batch_decode(output_ids, skip_special_tokens=True)\n",
        "print(output_ids)\n",
        "print(output_text)"
      ]
    },
    {
      "cell_type": "code",
      "execution_count": null,
      "metadata": {
        "id": "qKDTP8AdoDVL"
      },
      "outputs": [],
      "source": []
    }
  ],
  "metadata": {
    "kernelspec": {
      "display_name": "Python 3",
      "name": "python3"
    },
    "language_info": {
      "codemirror_mode": {
        "name": "ipython",
        "version": 3
      },
      "file_extension": ".py",
      "mimetype": "text/x-python",
      "name": "python",
      "nbconvert_exporter": "python",
      "pygments_lexer": "ipython3",
      "version": "3.9.7"
    },
    "orig_nbformat": 4,
    "vscode": {
      "interpreter": {
        "hash": "82483add99e985943b533ac743ce25d4b5442722ea11fd0b4d21cc9ac56c8c92"
      }
    },
    "colab": {
      "provenance": [],
      "gpuType": "T4"
    },
    "accelerator": "GPU"
  },
  "nbformat": 4,
  "nbformat_minor": 0
}