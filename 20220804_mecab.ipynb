{
 "cells": [
  {
   "cell_type": "code",
   "execution_count": 1,
   "metadata": {},
   "outputs": [],
   "source": [
    "# プログラムを実行前に pip コマンドで以下をインストール\n",
    "# (google colab の場合は以下のコメントアウトを外す)\n",
    "#!pip install mecab-python3\n",
    "#!pip install unidic\n",
    "#!python -m unidic download\n",
    "#!pip install sklearn"
   ]
  },
  {
   "cell_type": "code",
   "execution_count": 1,
   "metadata": {},
   "outputs": [
    {
     "name": "stdout",
     "output_type": "stream",
     "text": [
      "さいたま\t名詞,固有名詞,地名,一般,,,サイタマ,サイタマ,さいたま,サイタマ,さいたま,サイタマ,固,\"\",\"\",\"\",\"\",\"\",\"\",地名,サイタマ,サイタマ,サイタマ,サイタマ,\"1\",\"\",\"\",3783977890619904,13766\n",
      "市\t名詞,普通名詞,一般,,,,シ,市,市,シ,市,シ,漢,\"\",\"\",\"\",\"\",\"\",\"B1S8SjS,B1SjS\",体,シ,シ,シ,シ,\"1\",\"C3\",\"\",4105585041744384,14936\n",
      "は\t助詞,係助詞,,,,,ハ,は,は,ワ,は,ワ,和,\"\",\"\",\"\",\"\",\"\",\"\",係助,ハ,ハ,ハ,ハ,\"\",\"動詞%F2@0,名詞%F1,形容詞%F2@-1\",\"\",8059703733133824,29321\n",
      "、\t補助記号,読点,,,,,,、,、,,、,,記号,\"\",\"\",\"\",\"\",\"\",\"\",補助,,,,,\"\",\"\",\"\",6605693395456,24\n",
      "埼玉\t名詞,固有名詞,地名,一般,,,サイタマ,サイタマ,埼玉,サイタマ,埼玉,サイタマ,固,\"\",\"\",\"\",\"\",\"\",\"\",地名,サイタマ,サイタマ,サイタマ,サイタマ,\"1\",\"\",\"\",3783977957728768,13766\n",
      "県\t名詞,普通名詞,一般,,,,ケン,県,県,ケン,県,ケン,漢,\"ケ濁\",\"基本形\",\"\",\"\",\"\",\"B1S6SjShS\",体,ケン,ケン,ケン,ケン,\"1\",\"C3\",\"\",3094034344190464,11256\n",
      "南部\t名詞,普通名詞,一般,,,,ナンブ,南部,南部,ナンブ,南部,ナンブ,漢,\"\",\"\",\"\",\"\",\"\",\"\",体,ナンブ,ナンブ,ナンブ,ナンブ,\"1\",\"C1\",\"\",7740570483171840,28160\n",
      "に\t助詞,格助詞,,,,,ニ,に,に,ニ,に,ニ,和,\"\",\"\",\"\",\"\",\"\",\"\",格助,ニ,ニ,ニ,ニ,\"\",\"名詞%F1\",\"\",7745518285496832,28178\n",
      "ある\t動詞,非自立可能,,,五段-ラ行,連体形-一般,アル,有る,ある,アル,ある,アル,和,\"\",\"\",\"\",\"\",\"\",\"\",用,アル,アル,アル,アル,\"1\",\"C3\",\"\",334260158472897,1216\n",
      "政令\t名詞,普通名詞,一般,,,,セイレイ,政令,政令,セーレー,政令,セーレー,漢,\"\",\"\",\"\",\"\",\"\",\"\",体,セイレイ,セイレイ,セイレイ,セイレイ,\"0\",\"C2\",\"\",5507187489251840,20035\n",
      "市\t名詞,普通名詞,一般,,,,シ,市,市,シ,市,シ,漢,\"\",\"\",\"\",\"\",\"\",\"B1S8SjS,B1SjS\",体,シ,シ,シ,シ,\"1\",\"C3\",\"\",4105585041744384,14936\n",
      "です\t助動詞,,,,助動詞-デス,終止形-一般,デス,です,です,デス,です,デス,和,\"\",\"\",\"\",\"\",\"\",\"\",助動,デス,デス,デス,デス,\"\",\"形容詞%F2@-1,動詞%F2@0,名詞%F2@1\",\"\",7051468750332587,25653\n",
      "。\t補助記号,句点,,,,,,。,。,,。,,記号,\"\",\"\",\"\",\"\",\"\",\"\",補助,,,,,\"\",\"\",\"\",6880571302400,25\n",
      "EOS\n",
      "\n",
      "さいたま 名詞\n",
      "市 名詞\n",
      "は 助詞\n",
      "、 補助記号\n",
      "埼玉 名詞\n",
      "県 名詞\n",
      "南部 名詞\n",
      "に 助詞\n",
      "ある 動詞\n",
      "政令 名詞\n",
      "市 名詞\n",
      "です 助動詞\n",
      "。 補助記号\n"
     ]
    }
   ],
   "source": [
    "import MeCab\n",
    "import unidic\n",
    "\n",
    "sample_txt = 'さいたま市は、埼玉県南部にある政令市です。'\n",
    "\n",
    "# MeCab により sample_txt の形態素解析を実施\n",
    "tagger = MeCab.Tagger()\n",
    "result = tagger.parse(sample_txt)\n",
    "print(result)\n",
    "\n",
    "# 解析結果から、単語とその品詞を出力\n",
    "for token in result.split('\\n'):\n",
    "    if token != 'EOS' and len(token) > 0:\n",
    "        _word, _mecab_output = token.split('\\t') # 解析結果をタブで分割 -> 分かち書きされた単語 と MeCab の出力\n",
    "        _mecab_result = _mecab_output.split(',') # MeCab の出力をカンマで分割\n",
    "        print(_word, _mecab_result[0])"
   ]
  },
  {
   "cell_type": "code",
   "execution_count": 2,
   "metadata": {},
   "outputs": [
    {
     "name": "stdout",
     "output_type": "stream",
     "text": [
      "さいたま 市 は 、 埼玉 県 南部 に ある 政令 市 です 。 \n",
      "\n",
      "さいたま\n",
      "市\n",
      "は\n",
      "、\n",
      "埼玉\n",
      "県\n",
      "南部\n",
      "に\n",
      "ある\n",
      "政令\n",
      "市\n",
      "です\n",
      "。\n",
      "\n",
      "\n"
     ]
    }
   ],
   "source": [
    "# 入力文を分かち書き(単語ごとに)した結果を出力\n",
    "sample_txt = 'さいたま市は、埼玉県南部にある政令市です。'\n",
    "tagger = MeCab.Tagger('-Owakati')\n",
    "result = tagger.parse(sample_txt)\n",
    "print(result)\n",
    "for _word in result.split(' '):\n",
    "    print(_word)"
   ]
  },
  {
   "cell_type": "code",
   "execution_count": 13,
   "metadata": {},
   "outputs": [],
   "source": [
    "# BOW 計算用\n",
    "import numpy as np\n",
    "from sklearn.feature_extraction.text import CountVectorizer\n",
    "\n",
    "def init_bow_vectorizer(_text_list):\n",
    "    '''文書集合中の文書を分かち書きして出現する単語から CountVectorizer を準備'''\n",
    "    tagger = MeCab.Tagger('-Owakati')\n",
    "    _wakati_list = []\n",
    "    for _text in _text_list:\n",
    "        _wakati_list.append(tagger.parse(_text).strip())\n",
    "    \n",
    "    vectorizer = CountVectorizer(token_pattern=u'(?u)\\\\b\\\\w+\\\\b')\n",
    "    _np_array = np.array(_wakati_list)\n",
    "    vectorizer.fit(_np_array)\n",
    "    \n",
    "    return vectorizer\n",
    "\n",
    "def get_bow_vector(vectorizer, _sentence):\n",
    "    '''CountVectorizer により _sentence から Bow特徴量を作成'''\n",
    "    tagger = MeCab.Tagger('-Owakati')\n",
    "    return vectorizer.transform(np.array([tagger.parse(_sentence).strip()])).toarray()[0]"
   ]
  },
  {
   "cell_type": "code",
   "execution_count": 16,
   "metadata": {},
   "outputs": [
    {
     "name": "stdout",
     "output_type": "stream",
     "text": [
      "{'さいたま': 1, '市': 8, 'は': 4, '埼玉': 7, '県': 10, '南部': 6, 'に': 3, 'ある': 0, '政令': 9, 'です': 2, '北部': 5, '都市': 11}\n",
      "{'ans_text': 'さいたま市は、埼玉県南部にある政令市です。', 'vector': array([1, 1, 1, 1, 1, 0, 1, 1, 2, 1, 1, 0], dtype=int64)}\n",
      "{'ans_text': 'さいたま市は、埼玉県北部にある政令市です。', 'vector': array([1, 1, 1, 1, 1, 1, 0, 1, 2, 1, 1, 0], dtype=int64)}\n",
      "{'ans_text': 'さいたま市は、埼玉県南部にある都市です。', 'vector': array([1, 1, 1, 1, 1, 0, 1, 1, 1, 0, 1, 1], dtype=int64)}\n"
     ]
    }
   ],
   "source": [
    "_answers = [{'ans_text': 'さいたま市は、埼玉県南部にある政令市です。', 'vector': []},\n",
    "            {'ans_text': 'さいたま市は、埼玉県北部にある政令市です。', 'vector': []},\n",
    "            {'ans_text': 'さいたま市は、埼玉県南部にある都市です。', 'vector': []},]\n",
    "\n",
    "_answer_texts = []\n",
    "for _answer in _answers:\n",
    "    _answer_texts.append(_answer['ans_text'])\n",
    "_bow_vectorizer = init_bow_vectorizer(_answer_texts)\n",
    "\n",
    "print(_bow_vectorizer.vocabulary_)\n",
    "\n",
    "for _answer in _answers:\n",
    "    _answer['vector'] = get_bow_vector(_bow_vectorizer, _answer['ans_text'])\n",
    "    print(_answer)"
   ]
  },
  {
   "cell_type": "code",
   "execution_count": 20,
   "metadata": {},
   "outputs": [
    {
     "name": "stdout",
     "output_type": "stream",
     "text": [
      "さいたま市は、埼玉県南部にある政令市です。 さいたま市は、埼玉県南部にある政令市です。 1.0000000000000002\n",
      "さいたま市は、埼玉県南部にある政令市です。 さいたま市は、埼玉県北部にある政令市です。 0.9230769230769232\n",
      "さいたま市は、埼玉県南部にある政令市です。 さいたま市は、埼玉県南部にある都市です。 0.8770580193070293\n",
      "さいたま市は、埼玉県北部にある政令市です。 さいたま市は、埼玉県南部にある政令市です。 0.9230769230769232\n",
      "さいたま市は、埼玉県北部にある政令市です。 さいたま市は、埼玉県北部にある政令市です。 1.0000000000000002\n",
      "さいたま市は、埼玉県北部にある政令市です。 さいたま市は、埼玉県南部にある都市です。 0.7893522173763263\n",
      "さいたま市は、埼玉県南部にある都市です。 さいたま市は、埼玉県南部にある政令市です。 0.8770580193070293\n",
      "さいたま市は、埼玉県南部にある都市です。 さいたま市は、埼玉県北部にある政令市です。 0.7893522173763263\n",
      "さいたま市は、埼玉県南部にある都市です。 さいたま市は、埼玉県南部にある都市です。 0.9999999999999998\n"
     ]
    }
   ],
   "source": [
    "def cos_sim(x, y):\n",
    "    return float(np.dot(x, y) / (np.sqrt(np.sum(x ** 2)) * np.sqrt(np.sum(y ** 2))))\n",
    "\n",
    "for _answer_1 in _answers:\n",
    "    for _answer_2 in _answers:\n",
    "        print(_answer_1['ans_text'], _answer_2['ans_text'], cos_sim(_answer_1['vector'], _answer_2['vector']))"
   ]
  }
 ],
 "metadata": {
  "kernelspec": {
   "display_name": "Python 3.9.7 ('venv': venv)",
   "language": "python",
   "name": "python3"
  },
  "language_info": {
   "codemirror_mode": {
    "name": "ipython",
    "version": 3
   },
   "file_extension": ".py",
   "mimetype": "text/x-python",
   "name": "python",
   "nbconvert_exporter": "python",
   "pygments_lexer": "ipython3",
   "version": "3.9.7"
  },
  "orig_nbformat": 4,
  "vscode": {
   "interpreter": {
    "hash": "82483add99e985943b533ac743ce25d4b5442722ea11fd0b4d21cc9ac56c8c92"
   }
  }
 },
 "nbformat": 4,
 "nbformat_minor": 2
}
