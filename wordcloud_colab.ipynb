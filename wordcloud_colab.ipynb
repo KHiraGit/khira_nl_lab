{
 "cells": [
  {
   "cell_type": "code",
   "execution_count": null,
   "metadata": {},
   "outputs": [],
   "source": [
    "# ワードクラウドを作成する環境を準備\n",
    "!pip install mecab-python3\n",
    "!pip install unidic\n",
    "!python -m unidic download\n",
    "!pip install japanize-matplotlib\n",
    "!apt -y install fonts-ipafont-gothic\n",
    "!wget https://raw.githubusercontent.com/KHiraGit/khira_nl_lab/main/wagahaiwa_nekodearu.txt"
   ]
  },
  {
   "cell_type": "code",
   "execution_count": null,
   "metadata": {},
   "outputs": [],
   "source": [
    "# 必要なライブラリをインポート\n",
    "import os\n",
    "import re\n",
    "import MeCab\n",
    "from wordcloud import WordCloud\n",
    "import matplotlib.pyplot as plt\n",
    "import japanize_matplotlib"
   ]
  },
  {
   "cell_type": "code",
   "execution_count": null,
   "metadata": {},
   "outputs": [],
   "source": [
    "# 「吾輩は猫である」の冒頭からワードクラウドを作成\n",
    "wakati = MeCab.Tagger('-Owakati')\n",
    "text = '吾輩は猫である。名前はまだない。'\n",
    "print(text)\n",
    "wakati_text = wakati.parse(text)\n",
    "print(wakati_text)\n",
    "\n",
    "_width = 800\n",
    "_height = 600\n",
    "_stopwords = []\n",
    "_max_words = 200\n",
    "_font_path = '/usr/share/fonts/opentype/ipafont-gothic/ipagp.ttf' # google colab の場合\n",
    "# _font_path = r\"C:\\WINDOWS\\FONTS\\MEIRYO.TTC\" # Windows の場合\n",
    "_max_font_size = 48\n",
    "word_cloud = WordCloud(width=_width, height=_height, stopwords=_stopwords, max_words=_max_words, max_font_size=_max_font_size, font_path=_font_path).generate(wakati_text)\n",
    "\n",
    "plt.imshow(word_cloud)\n",
    "plt.axis('off')\n",
    "plt.show()"
   ]
  },
  {
   "cell_type": "code",
   "execution_count": null,
   "metadata": {},
   "outputs": [],
   "source": [
    "# 青空文庫からダウンロードした「吾輩は猫である」のワードクラウドを作成\n",
    "with open(os.path.join('wagahaiwa_nekodearu.txt'), mode='r', encoding='sjis') as f:\n",
    "    _text_list = f.readlines()\n",
    "print('入力テキストの行数', len(_text_list))\n",
    "_title = _text_list[0]\n",
    "_author = _text_list[1]\n",
    "\n",
    "_tagger = MeCab.Tagger()\n",
    "_flag = 0\n",
    "_words = ''\n",
    "for _text in _text_list:\n",
    "    if re.search(r'^---------------------------', _text):\n",
    "        _flag = _flag + 1\n",
    "    elif _flag > 1:\n",
    "        _text = re.sub(r'［.+］', '', _text) # 入力者注 を削除\n",
    "        _text = re.sub(r'｜', '', _text) # ルビの付く文字列の始まりを特定する記号 を除去\n",
    "        _text = re.sub(r'《.+》', '', _text) # ルビ を除去\n",
    "        _text = re.sub(r'〔.+〕', '', _text) # アクセント分解された欧文 を除去\n",
    "        _text = _text.replace('\\u3000', '') # 行頭のの全角スペース を除去\n",
    "        _words = _words + _text\n",
    "\n",
    "_tagger.parse('') # MeCab のエラー除け\n",
    "node = _tagger.parseToNode(_words)\n",
    "word_list = []\n",
    "while node:\n",
    "    word_type = node.feature.split(',')[0]\n",
    "    if word_type == '名詞':\n",
    "        word_list.append(node.surface)\n",
    "    node = node.next\n",
    "word_chain = ' '.join(word_list)\n",
    "\n",
    "print('前処理後テキストの文字数', len(word_chain))\n",
    "_width = 800\n",
    "_height = 600\n",
    "_stopwords = []\n",
    "_max_words = 200\n",
    "_font_path = '/usr/share/fonts/opentype/ipafont-gothic/ipagp.ttf' # google colab の場合\n",
    "# _font_path = r\"C:\\WINDOWS\\FONTS\\MEIRYO.TTC\" # Windows の場合\n",
    "_max_font_size = 256\n",
    "word_cloud = WordCloud(width=_width, height=_height, stopwords=_stopwords, max_words=_max_words, max_font_size=_max_font_size, font_path=_font_path).generate(word_chain)\n",
    "\n",
    "plt.imshow(word_cloud)\n",
    "plt.axis('off')\n",
    "plt.show()"
   ]
  }
 ],
 "metadata": {
  "kernelspec": {
   "display_name": "venv",
   "language": "python",
   "name": "python3"
  },
  "language_info": {
   "codemirror_mode": {
    "name": "ipython",
    "version": 3
   },
   "file_extension": ".py",
   "mimetype": "text/x-python",
   "name": "python",
   "nbconvert_exporter": "python",
   "pygments_lexer": "ipython3",
   "version": "3.9.7"
  },
  "orig_nbformat": 4
 },
 "nbformat": 4,
 "nbformat_minor": 2
}
